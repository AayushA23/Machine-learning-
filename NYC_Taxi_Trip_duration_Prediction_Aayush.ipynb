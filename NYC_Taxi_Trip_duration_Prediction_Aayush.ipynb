{
 "cells": [
  {
   "cell_type": "markdown",
   "metadata": {
    "id": "jqJhvRiKnlt4"
   },
   "source": [
    "## Downloading the data"
   ]
  },
  {
   "cell_type": "code",
   "execution_count": 1,
   "metadata": {
    "id": "sT8xhqVq_167"
   },
   "outputs": [],
   "source": [
    "import pandas as pd\n",
    "import numpy as np\n",
    "\n",
    "import seaborn as sns\n",
    "import matplotlib.pyplot as plt\n",
    "import plotly.express as px\n",
    "import matplotlib\n",
    "import warnings\n",
    "warnings.filterwarnings(\"ignore\")\n",
    "\n",
    "matplotlib.rcParams['figure.figsize'] = 10,10\n"
   ]
  },
  {
   "cell_type": "code",
   "execution_count": 2,
   "metadata": {
    "colab": {
     "base_uri": "https://localhost:8080/",
     "height": 605
    },
    "id": "bESBph-Wxlmv",
    "outputId": "42ef3df6-2e57-466b-f4dd-1bc881b53ef2"
   },
   "outputs": [
    {
     "data": {
      "text/html": [
       "<div>\n",
       "<style scoped>\n",
       "    .dataframe tbody tr th:only-of-type {\n",
       "        vertical-align: middle;\n",
       "    }\n",
       "\n",
       "    .dataframe tbody tr th {\n",
       "        vertical-align: top;\n",
       "    }\n",
       "\n",
       "    .dataframe thead th {\n",
       "        text-align: right;\n",
       "    }\n",
       "</style>\n",
       "<table border=\"1\" class=\"dataframe\">\n",
       "  <thead>\n",
       "    <tr style=\"text-align: right;\">\n",
       "      <th></th>\n",
       "      <th>id</th>\n",
       "      <th>vendor_id</th>\n",
       "      <th>pickup_datetime</th>\n",
       "      <th>dropoff_datetime</th>\n",
       "      <th>passenger_count</th>\n",
       "      <th>pickup_longitude</th>\n",
       "      <th>pickup_latitude</th>\n",
       "      <th>dropoff_longitude</th>\n",
       "      <th>dropoff_latitude</th>\n",
       "      <th>store_and_fwd_flag</th>\n",
       "      <th>trip_duration</th>\n",
       "    </tr>\n",
       "  </thead>\n",
       "  <tbody>\n",
       "    <tr>\n",
       "      <th>0</th>\n",
       "      <td>id1080784</td>\n",
       "      <td>2</td>\n",
       "      <td>2016-02-29 16:40:21</td>\n",
       "      <td>2016-02-29 16:47:01</td>\n",
       "      <td>1</td>\n",
       "      <td>-73.953918</td>\n",
       "      <td>40.778873</td>\n",
       "      <td>-73.963875</td>\n",
       "      <td>40.771164</td>\n",
       "      <td>N</td>\n",
       "      <td>400</td>\n",
       "    </tr>\n",
       "    <tr>\n",
       "      <th>1</th>\n",
       "      <td>id0889885</td>\n",
       "      <td>1</td>\n",
       "      <td>2016-03-11 23:35:37</td>\n",
       "      <td>2016-03-11 23:53:57</td>\n",
       "      <td>2</td>\n",
       "      <td>-73.988312</td>\n",
       "      <td>40.731743</td>\n",
       "      <td>-73.994751</td>\n",
       "      <td>40.694931</td>\n",
       "      <td>N</td>\n",
       "      <td>1100</td>\n",
       "    </tr>\n",
       "    <tr>\n",
       "      <th>2</th>\n",
       "      <td>id0857912</td>\n",
       "      <td>2</td>\n",
       "      <td>2016-02-21 17:59:33</td>\n",
       "      <td>2016-02-21 18:26:48</td>\n",
       "      <td>2</td>\n",
       "      <td>-73.997314</td>\n",
       "      <td>40.721458</td>\n",
       "      <td>-73.948029</td>\n",
       "      <td>40.774918</td>\n",
       "      <td>N</td>\n",
       "      <td>1635</td>\n",
       "    </tr>\n",
       "    <tr>\n",
       "      <th>3</th>\n",
       "      <td>id3744273</td>\n",
       "      <td>2</td>\n",
       "      <td>2016-01-05 09:44:31</td>\n",
       "      <td>2016-01-05 10:03:32</td>\n",
       "      <td>6</td>\n",
       "      <td>-73.961670</td>\n",
       "      <td>40.759720</td>\n",
       "      <td>-73.956779</td>\n",
       "      <td>40.780628</td>\n",
       "      <td>N</td>\n",
       "      <td>1141</td>\n",
       "    </tr>\n",
       "    <tr>\n",
       "      <th>4</th>\n",
       "      <td>id0232939</td>\n",
       "      <td>1</td>\n",
       "      <td>2016-02-17 06:42:23</td>\n",
       "      <td>2016-02-17 06:56:31</td>\n",
       "      <td>1</td>\n",
       "      <td>-74.017120</td>\n",
       "      <td>40.708469</td>\n",
       "      <td>-73.988182</td>\n",
       "      <td>40.740631</td>\n",
       "      <td>N</td>\n",
       "      <td>848</td>\n",
       "    </tr>\n",
       "    <tr>\n",
       "      <th>...</th>\n",
       "      <td>...</td>\n",
       "      <td>...</td>\n",
       "      <td>...</td>\n",
       "      <td>...</td>\n",
       "      <td>...</td>\n",
       "      <td>...</td>\n",
       "      <td>...</td>\n",
       "      <td>...</td>\n",
       "      <td>...</td>\n",
       "      <td>...</td>\n",
       "      <td>...</td>\n",
       "    </tr>\n",
       "    <tr>\n",
       "      <th>729317</th>\n",
       "      <td>id3905982</td>\n",
       "      <td>2</td>\n",
       "      <td>2016-05-21 13:29:38</td>\n",
       "      <td>2016-05-21 13:34:34</td>\n",
       "      <td>2</td>\n",
       "      <td>-73.965919</td>\n",
       "      <td>40.789780</td>\n",
       "      <td>-73.952637</td>\n",
       "      <td>40.789181</td>\n",
       "      <td>N</td>\n",
       "      <td>296</td>\n",
       "    </tr>\n",
       "    <tr>\n",
       "      <th>729318</th>\n",
       "      <td>id0102861</td>\n",
       "      <td>1</td>\n",
       "      <td>2016-02-22 00:43:11</td>\n",
       "      <td>2016-02-22 00:48:26</td>\n",
       "      <td>1</td>\n",
       "      <td>-73.996666</td>\n",
       "      <td>40.737434</td>\n",
       "      <td>-74.001320</td>\n",
       "      <td>40.731911</td>\n",
       "      <td>N</td>\n",
       "      <td>315</td>\n",
       "    </tr>\n",
       "    <tr>\n",
       "      <th>729319</th>\n",
       "      <td>id0439699</td>\n",
       "      <td>1</td>\n",
       "      <td>2016-04-15 18:56:48</td>\n",
       "      <td>2016-04-15 19:08:01</td>\n",
       "      <td>1</td>\n",
       "      <td>-73.997849</td>\n",
       "      <td>40.761696</td>\n",
       "      <td>-74.001488</td>\n",
       "      <td>40.741207</td>\n",
       "      <td>N</td>\n",
       "      <td>673</td>\n",
       "    </tr>\n",
       "    <tr>\n",
       "      <th>729320</th>\n",
       "      <td>id2078912</td>\n",
       "      <td>1</td>\n",
       "      <td>2016-06-19 09:50:47</td>\n",
       "      <td>2016-06-19 09:58:14</td>\n",
       "      <td>1</td>\n",
       "      <td>-74.006706</td>\n",
       "      <td>40.708244</td>\n",
       "      <td>-74.013550</td>\n",
       "      <td>40.713814</td>\n",
       "      <td>N</td>\n",
       "      <td>447</td>\n",
       "    </tr>\n",
       "    <tr>\n",
       "      <th>729321</th>\n",
       "      <td>id1053441</td>\n",
       "      <td>2</td>\n",
       "      <td>2016-01-01 17:24:16</td>\n",
       "      <td>2016-01-01 17:44:40</td>\n",
       "      <td>4</td>\n",
       "      <td>-74.003342</td>\n",
       "      <td>40.743839</td>\n",
       "      <td>-73.945847</td>\n",
       "      <td>40.712841</td>\n",
       "      <td>N</td>\n",
       "      <td>1224</td>\n",
       "    </tr>\n",
       "  </tbody>\n",
       "</table>\n",
       "<p>729322 rows × 11 columns</p>\n",
       "</div>"
      ],
      "text/plain": [
       "               id  vendor_id      pickup_datetime     dropoff_datetime  \\\n",
       "0       id1080784          2  2016-02-29 16:40:21  2016-02-29 16:47:01   \n",
       "1       id0889885          1  2016-03-11 23:35:37  2016-03-11 23:53:57   \n",
       "2       id0857912          2  2016-02-21 17:59:33  2016-02-21 18:26:48   \n",
       "3       id3744273          2  2016-01-05 09:44:31  2016-01-05 10:03:32   \n",
       "4       id0232939          1  2016-02-17 06:42:23  2016-02-17 06:56:31   \n",
       "...           ...        ...                  ...                  ...   \n",
       "729317  id3905982          2  2016-05-21 13:29:38  2016-05-21 13:34:34   \n",
       "729318  id0102861          1  2016-02-22 00:43:11  2016-02-22 00:48:26   \n",
       "729319  id0439699          1  2016-04-15 18:56:48  2016-04-15 19:08:01   \n",
       "729320  id2078912          1  2016-06-19 09:50:47  2016-06-19 09:58:14   \n",
       "729321  id1053441          2  2016-01-01 17:24:16  2016-01-01 17:44:40   \n",
       "\n",
       "        passenger_count  pickup_longitude  pickup_latitude  dropoff_longitude  \\\n",
       "0                     1        -73.953918        40.778873         -73.963875   \n",
       "1                     2        -73.988312        40.731743         -73.994751   \n",
       "2                     2        -73.997314        40.721458         -73.948029   \n",
       "3                     6        -73.961670        40.759720         -73.956779   \n",
       "4                     1        -74.017120        40.708469         -73.988182   \n",
       "...                 ...               ...              ...                ...   \n",
       "729317                2        -73.965919        40.789780         -73.952637   \n",
       "729318                1        -73.996666        40.737434         -74.001320   \n",
       "729319                1        -73.997849        40.761696         -74.001488   \n",
       "729320                1        -74.006706        40.708244         -74.013550   \n",
       "729321                4        -74.003342        40.743839         -73.945847   \n",
       "\n",
       "        dropoff_latitude store_and_fwd_flag  trip_duration  \n",
       "0              40.771164                  N            400  \n",
       "1              40.694931                  N           1100  \n",
       "2              40.774918                  N           1635  \n",
       "3              40.780628                  N           1141  \n",
       "4              40.740631                  N            848  \n",
       "...                  ...                ...            ...  \n",
       "729317         40.789181                  N            296  \n",
       "729318         40.731911                  N            315  \n",
       "729319         40.741207                  N            673  \n",
       "729320         40.713814                  N            447  \n",
       "729321         40.712841                  N           1224  \n",
       "\n",
       "[729322 rows x 11 columns]"
      ]
     },
     "execution_count": 2,
     "metadata": {},
     "output_type": "execute_result"
    }
   ],
   "source": [
    "nyc_df = pd.read_csv('nyc_taxi_trip_duration.csv')\n",
    "nyc_df"
   ]
  },
  {
   "cell_type": "code",
   "execution_count": 3,
   "metadata": {
    "colab": {
     "base_uri": "https://localhost:8080/"
    },
    "id": "9DCQhibwxz6C",
    "outputId": "7bc0f5de-91cf-4b63-970d-0a998aa0f894"
   },
   "outputs": [
    {
     "name": "stdout",
     "output_type": "stream",
     "text": [
      "<class 'pandas.core.frame.DataFrame'>\n",
      "RangeIndex: 729322 entries, 0 to 729321\n",
      "Data columns (total 11 columns):\n",
      " #   Column              Non-Null Count   Dtype  \n",
      "---  ------              --------------   -----  \n",
      " 0   id                  729322 non-null  object \n",
      " 1   vendor_id           729322 non-null  int64  \n",
      " 2   pickup_datetime     729322 non-null  object \n",
      " 3   dropoff_datetime    729322 non-null  object \n",
      " 4   passenger_count     729322 non-null  int64  \n",
      " 5   pickup_longitude    729322 non-null  float64\n",
      " 6   pickup_latitude     729322 non-null  float64\n",
      " 7   dropoff_longitude   729322 non-null  float64\n",
      " 8   dropoff_latitude    729322 non-null  float64\n",
      " 9   store_and_fwd_flag  729322 non-null  object \n",
      " 10  trip_duration       729322 non-null  int64  \n",
      "dtypes: float64(4), int64(3), object(4)\n",
      "memory usage: 61.2+ MB\n"
     ]
    }
   ],
   "source": [
    "nyc_df.info()"
   ]
  },
  {
   "cell_type": "code",
   "execution_count": 4,
   "metadata": {
    "colab": {
     "base_uri": "https://localhost:8080/",
     "height": 295
    },
    "id": "KmcwH94Sx1ZF",
    "outputId": "75cfeddd-0948-4752-9b96-c58ecfebdb37"
   },
   "outputs": [
    {
     "data": {
      "text/html": [
       "<div>\n",
       "<style scoped>\n",
       "    .dataframe tbody tr th:only-of-type {\n",
       "        vertical-align: middle;\n",
       "    }\n",
       "\n",
       "    .dataframe tbody tr th {\n",
       "        vertical-align: top;\n",
       "    }\n",
       "\n",
       "    .dataframe thead th {\n",
       "        text-align: right;\n",
       "    }\n",
       "</style>\n",
       "<table border=\"1\" class=\"dataframe\">\n",
       "  <thead>\n",
       "    <tr style=\"text-align: right;\">\n",
       "      <th></th>\n",
       "      <th>vendor_id</th>\n",
       "      <th>passenger_count</th>\n",
       "      <th>pickup_longitude</th>\n",
       "      <th>pickup_latitude</th>\n",
       "      <th>dropoff_longitude</th>\n",
       "      <th>dropoff_latitude</th>\n",
       "      <th>trip_duration</th>\n",
       "    </tr>\n",
       "  </thead>\n",
       "  <tbody>\n",
       "    <tr>\n",
       "      <th>count</th>\n",
       "      <td>729322.000000</td>\n",
       "      <td>729322.000000</td>\n",
       "      <td>729322.000000</td>\n",
       "      <td>729322.000000</td>\n",
       "      <td>729322.000000</td>\n",
       "      <td>729322.000000</td>\n",
       "      <td>7.293220e+05</td>\n",
       "    </tr>\n",
       "    <tr>\n",
       "      <th>mean</th>\n",
       "      <td>1.535403</td>\n",
       "      <td>1.662055</td>\n",
       "      <td>-73.973513</td>\n",
       "      <td>40.750919</td>\n",
       "      <td>-73.973422</td>\n",
       "      <td>40.751775</td>\n",
       "      <td>9.522291e+02</td>\n",
       "    </tr>\n",
       "    <tr>\n",
       "      <th>std</th>\n",
       "      <td>0.498745</td>\n",
       "      <td>1.312446</td>\n",
       "      <td>0.069754</td>\n",
       "      <td>0.033594</td>\n",
       "      <td>0.069588</td>\n",
       "      <td>0.036037</td>\n",
       "      <td>3.864626e+03</td>\n",
       "    </tr>\n",
       "    <tr>\n",
       "      <th>min</th>\n",
       "      <td>1.000000</td>\n",
       "      <td>0.000000</td>\n",
       "      <td>-121.933342</td>\n",
       "      <td>34.712234</td>\n",
       "      <td>-121.933304</td>\n",
       "      <td>32.181141</td>\n",
       "      <td>1.000000e+00</td>\n",
       "    </tr>\n",
       "    <tr>\n",
       "      <th>25%</th>\n",
       "      <td>1.000000</td>\n",
       "      <td>1.000000</td>\n",
       "      <td>-73.991859</td>\n",
       "      <td>40.737335</td>\n",
       "      <td>-73.991318</td>\n",
       "      <td>40.735931</td>\n",
       "      <td>3.970000e+02</td>\n",
       "    </tr>\n",
       "    <tr>\n",
       "      <th>50%</th>\n",
       "      <td>2.000000</td>\n",
       "      <td>1.000000</td>\n",
       "      <td>-73.981758</td>\n",
       "      <td>40.754070</td>\n",
       "      <td>-73.979759</td>\n",
       "      <td>40.754509</td>\n",
       "      <td>6.630000e+02</td>\n",
       "    </tr>\n",
       "    <tr>\n",
       "      <th>75%</th>\n",
       "      <td>2.000000</td>\n",
       "      <td>2.000000</td>\n",
       "      <td>-73.967361</td>\n",
       "      <td>40.768314</td>\n",
       "      <td>-73.963036</td>\n",
       "      <td>40.769741</td>\n",
       "      <td>1.075000e+03</td>\n",
       "    </tr>\n",
       "    <tr>\n",
       "      <th>max</th>\n",
       "      <td>2.000000</td>\n",
       "      <td>9.000000</td>\n",
       "      <td>-65.897385</td>\n",
       "      <td>51.881084</td>\n",
       "      <td>-65.897385</td>\n",
       "      <td>43.921028</td>\n",
       "      <td>1.939736e+06</td>\n",
       "    </tr>\n",
       "  </tbody>\n",
       "</table>\n",
       "</div>"
      ],
      "text/plain": [
       "           vendor_id  passenger_count  pickup_longitude  pickup_latitude  \\\n",
       "count  729322.000000    729322.000000     729322.000000    729322.000000   \n",
       "mean        1.535403         1.662055        -73.973513        40.750919   \n",
       "std         0.498745         1.312446          0.069754         0.033594   \n",
       "min         1.000000         0.000000       -121.933342        34.712234   \n",
       "25%         1.000000         1.000000        -73.991859        40.737335   \n",
       "50%         2.000000         1.000000        -73.981758        40.754070   \n",
       "75%         2.000000         2.000000        -73.967361        40.768314   \n",
       "max         2.000000         9.000000        -65.897385        51.881084   \n",
       "\n",
       "       dropoff_longitude  dropoff_latitude  trip_duration  \n",
       "count      729322.000000     729322.000000   7.293220e+05  \n",
       "mean          -73.973422         40.751775   9.522291e+02  \n",
       "std             0.069588          0.036037   3.864626e+03  \n",
       "min          -121.933304         32.181141   1.000000e+00  \n",
       "25%           -73.991318         40.735931   3.970000e+02  \n",
       "50%           -73.979759         40.754509   6.630000e+02  \n",
       "75%           -73.963036         40.769741   1.075000e+03  \n",
       "max           -65.897385         43.921028   1.939736e+06  "
      ]
     },
     "execution_count": 4,
     "metadata": {},
     "output_type": "execute_result"
    }
   ],
   "source": [
    "nyc_df.describe()"
   ]
  },
  {
   "cell_type": "markdown",
   "metadata": {
    "id": "p436b7Dpyc91"
   },
   "source": [
    "## Data Preprocessing"
   ]
  },
  {
   "cell_type": "code",
   "execution_count": 5,
   "metadata": {
    "colab": {
     "base_uri": "https://localhost:8080/"
    },
    "id": "ZdE6Dr7CzFgm",
    "outputId": "b1cbe8d5-e83f-4d4c-b785-fc32b447a506"
   },
   "outputs": [
    {
     "data": {
      "text/plain": [
       "0          400\n",
       "1         1100\n",
       "2         1635\n",
       "3         1141\n",
       "4          848\n",
       "          ... \n",
       "729317     296\n",
       "729318     315\n",
       "729319     673\n",
       "729320     447\n",
       "729321    1224\n",
       "Name: trip_duration, Length: 728274, dtype: int64"
      ]
     },
     "execution_count": 5,
     "metadata": {},
     "output_type": "execute_result"
    }
   ],
   "source": [
    "m = np.mean(nyc_df['trip_duration'])\n",
    "std = np.std(nyc_df['trip_duration'])\n",
    "nyc_df = nyc_df[nyc_df['trip_duration'] <= m + 2*std]\n",
    "nyc_df = nyc_df[nyc_df['trip_duration'] >= m- 2*std]\n",
    "nyc_df.trip_duration"
   ]
  },
  {
   "cell_type": "code",
   "execution_count": 6,
   "metadata": {
    "colab": {
     "base_uri": "https://localhost:8080/"
    },
    "id": "35KAWm5q04Tf",
    "outputId": "c9f5a0d1-64d8-45b4-fc65-eb4f0e918491"
   },
   "outputs": [
    {
     "name": "stdout",
     "output_type": "stream",
     "text": [
      "32.1811408996582\n",
      "43.92102813720703\n",
      "-121.9333038330078\n",
      "-65.89738464355469\n"
     ]
    }
   ],
   "source": [
    "print(min(nyc_df['dropoff_latitude']))\n",
    "print(max(nyc_df['dropoff_latitude']))\n",
    "print(min(nyc_df['dropoff_longitude']))\n",
    "print(max(nyc_df['dropoff_longitude']))"
   ]
  },
  {
   "cell_type": "markdown",
   "metadata": {
    "id": "dtcD_IFd0Y74"
   },
   "source": [
    "Now looking into the longitude the coordinates lies between (-74.53,-72.71) and the latitude coordinates lies between (40.44,41.09).\n",
    "But the pickup_latitude and pickup_longitude and dropoff_latitude and dropoff_laongitude lies outside this range. So let's clean them."
   ]
  },
  {
   "cell_type": "code",
   "execution_count": 7,
   "metadata": {
    "id": "hcuxK-PW0YMC"
   },
   "outputs": [],
   "source": [
    "nyc_df = nyc_df[nyc_df['dropoff_latitude']<=41.09]\n",
    "nyc_df = nyc_df[nyc_df['dropoff_latitude']>=40.44]\n",
    "nyc_df = nyc_df[nyc_df['dropoff_longitude']<=-73.33]\n",
    "nyc_df = nyc_df[nyc_df['dropoff_longitude']>=-74.53]\n",
    "\n",
    "\n",
    "nyc_df = nyc_df[nyc_df['pickup_latitude']<=41.09]\n",
    "nyc_df = nyc_df[nyc_df['pickup_latitude']>=40.44]\n",
    "nyc_df = nyc_df[nyc_df['pickup_longitude']<=-73.33]\n",
    "nyc_df = nyc_df[nyc_df['pickup_longitude']>=-74.53]"
   ]
  },
  {
   "cell_type": "code",
   "execution_count": 8,
   "metadata": {
    "colab": {
     "base_uri": "https://localhost:8080/",
     "height": 295
    },
    "id": "vq68kjIS2Xc_",
    "outputId": "55fcc164-8679-4ce8-8f7a-1d0e6c3a59ae"
   },
   "outputs": [
    {
     "data": {
      "text/html": [
       "<div>\n",
       "<style scoped>\n",
       "    .dataframe tbody tr th:only-of-type {\n",
       "        vertical-align: middle;\n",
       "    }\n",
       "\n",
       "    .dataframe tbody tr th {\n",
       "        vertical-align: top;\n",
       "    }\n",
       "\n",
       "    .dataframe thead th {\n",
       "        text-align: right;\n",
       "    }\n",
       "</style>\n",
       "<table border=\"1\" class=\"dataframe\">\n",
       "  <thead>\n",
       "    <tr style=\"text-align: right;\">\n",
       "      <th></th>\n",
       "      <th>vendor_id</th>\n",
       "      <th>passenger_count</th>\n",
       "      <th>pickup_longitude</th>\n",
       "      <th>pickup_latitude</th>\n",
       "      <th>dropoff_longitude</th>\n",
       "      <th>dropoff_latitude</th>\n",
       "      <th>trip_duration</th>\n",
       "    </tr>\n",
       "  </thead>\n",
       "  <tbody>\n",
       "    <tr>\n",
       "      <th>count</th>\n",
       "      <td>728191.000000</td>\n",
       "      <td>728191.000000</td>\n",
       "      <td>728191.000000</td>\n",
       "      <td>728191.000000</td>\n",
       "      <td>728191.000000</td>\n",
       "      <td>728191.000000</td>\n",
       "      <td>728191.000000</td>\n",
       "    </tr>\n",
       "    <tr>\n",
       "      <th>mean</th>\n",
       "      <td>1.534779</td>\n",
       "      <td>1.661410</td>\n",
       "      <td>-73.973463</td>\n",
       "      <td>40.750925</td>\n",
       "      <td>-73.973359</td>\n",
       "      <td>40.751792</td>\n",
       "      <td>836.314731</td>\n",
       "    </tr>\n",
       "    <tr>\n",
       "      <th>std</th>\n",
       "      <td>0.498789</td>\n",
       "      <td>1.311762</td>\n",
       "      <td>0.038266</td>\n",
       "      <td>0.028061</td>\n",
       "      <td>0.035981</td>\n",
       "      <td>0.032266</td>\n",
       "      <td>654.973561</td>\n",
       "    </tr>\n",
       "    <tr>\n",
       "      <th>min</th>\n",
       "      <td>1.000000</td>\n",
       "      <td>0.000000</td>\n",
       "      <td>-74.459015</td>\n",
       "      <td>40.446159</td>\n",
       "      <td>-74.511681</td>\n",
       "      <td>40.444698</td>\n",
       "      <td>1.000000</td>\n",
       "    </tr>\n",
       "    <tr>\n",
       "      <th>25%</th>\n",
       "      <td>1.000000</td>\n",
       "      <td>1.000000</td>\n",
       "      <td>-73.991859</td>\n",
       "      <td>40.737347</td>\n",
       "      <td>-73.991310</td>\n",
       "      <td>40.735939</td>\n",
       "      <td>397.000000</td>\n",
       "    </tr>\n",
       "    <tr>\n",
       "      <th>50%</th>\n",
       "      <td>2.000000</td>\n",
       "      <td>1.000000</td>\n",
       "      <td>-73.981758</td>\n",
       "      <td>40.754082</td>\n",
       "      <td>-73.979752</td>\n",
       "      <td>40.754517</td>\n",
       "      <td>662.000000</td>\n",
       "    </tr>\n",
       "    <tr>\n",
       "      <th>75%</th>\n",
       "      <td>2.000000</td>\n",
       "      <td>2.000000</td>\n",
       "      <td>-73.967369</td>\n",
       "      <td>40.768318</td>\n",
       "      <td>-73.963043</td>\n",
       "      <td>40.769741</td>\n",
       "      <td>1073.000000</td>\n",
       "    </tr>\n",
       "    <tr>\n",
       "      <th>max</th>\n",
       "      <td>2.000000</td>\n",
       "      <td>9.000000</td>\n",
       "      <td>-73.330917</td>\n",
       "      <td>41.069038</td>\n",
       "      <td>-73.332817</td>\n",
       "      <td>41.089260</td>\n",
       "      <td>8588.000000</td>\n",
       "    </tr>\n",
       "  </tbody>\n",
       "</table>\n",
       "</div>"
      ],
      "text/plain": [
       "           vendor_id  passenger_count  pickup_longitude  pickup_latitude  \\\n",
       "count  728191.000000    728191.000000     728191.000000    728191.000000   \n",
       "mean        1.534779         1.661410        -73.973463        40.750925   \n",
       "std         0.498789         1.311762          0.038266         0.028061   \n",
       "min         1.000000         0.000000        -74.459015        40.446159   \n",
       "25%         1.000000         1.000000        -73.991859        40.737347   \n",
       "50%         2.000000         1.000000        -73.981758        40.754082   \n",
       "75%         2.000000         2.000000        -73.967369        40.768318   \n",
       "max         2.000000         9.000000        -73.330917        41.069038   \n",
       "\n",
       "       dropoff_longitude  dropoff_latitude  trip_duration  \n",
       "count      728191.000000     728191.000000  728191.000000  \n",
       "mean          -73.973359         40.751792     836.314731  \n",
       "std             0.035981          0.032266     654.973561  \n",
       "min           -74.511681         40.444698       1.000000  \n",
       "25%           -73.991310         40.735939     397.000000  \n",
       "50%           -73.979752         40.754517     662.000000  \n",
       "75%           -73.963043         40.769741    1073.000000  \n",
       "max           -73.332817         41.089260    8588.000000  "
      ]
     },
     "execution_count": 8,
     "metadata": {},
     "output_type": "execute_result"
    }
   ],
   "source": [
    "nyc_df.describe()"
   ]
  },
  {
   "cell_type": "markdown",
   "metadata": {
    "id": "xy--vcNN3Lso"
   },
   "source": [
    "Now let's change the data type of pickup_datetime and dropoff_datetime fields as they may be useful later."
   ]
  },
  {
   "cell_type": "code",
   "execution_count": 9,
   "metadata": {
    "colab": {
     "base_uri": "https://localhost:8080/"
    },
    "id": "NLRTjpv72mMp",
    "outputId": "b2cf5f42-ddc7-4707-a733-fd8a6c6b383a"
   },
   "outputs": [
    {
     "data": {
      "text/plain": [
       "0         2016-02-29\n",
       "1         2016-03-11\n",
       "2         2016-02-21\n",
       "3         2016-01-05\n",
       "4         2016-02-17\n",
       "             ...    \n",
       "729317    2016-05-21\n",
       "729318    2016-02-22\n",
       "729319    2016-04-15\n",
       "729320    2016-06-19\n",
       "729321    2016-01-01\n",
       "Name: pickup_date, Length: 728191, dtype: object"
      ]
     },
     "execution_count": 9,
     "metadata": {},
     "output_type": "execute_result"
    }
   ],
   "source": [
    "nyc_df['pickup_datetime'] = nyc_df['pickup_datetime'].astype('datetime64')\n",
    "nyc_df['pickup_date'] = nyc_df['pickup_datetime'].dt.date\n",
    "nyc_df['pickup_date']"
   ]
  },
  {
   "cell_type": "code",
   "execution_count": 10,
   "metadata": {
    "colab": {
     "base_uri": "https://localhost:8080/"
    },
    "id": "Ydgxt-W43yfJ",
    "outputId": "f6dc129f-d2ce-455d-e301-76c2d8c46190"
   },
   "outputs": [
    {
     "data": {
      "text/plain": [
       "0         2016-02-29\n",
       "1         2016-03-11\n",
       "2         2016-02-21\n",
       "3         2016-01-05\n",
       "4         2016-02-17\n",
       "             ...    \n",
       "729317    2016-05-21\n",
       "729318    2016-02-22\n",
       "729319    2016-04-15\n",
       "729320    2016-06-19\n",
       "729321    2016-01-01\n",
       "Name: dropoff_date, Length: 728191, dtype: object"
      ]
     },
     "execution_count": 10,
     "metadata": {},
     "output_type": "execute_result"
    }
   ],
   "source": [
    "nyc_df['dropoff_datetime'] = nyc_df['dropoff_datetime'].astype('datetime64')\n",
    "nyc_df['dropoff_date'] = nyc_df['dropoff_datetime'].dt.date\n",
    "nyc_df['dropoff_date']"
   ]
  },
  {
   "cell_type": "code",
   "execution_count": 11,
   "metadata": {
    "colab": {
     "base_uri": "https://localhost:8080/"
    },
    "id": "QaW4bRJ-CIU5",
    "outputId": "3fb13c3f-51a2-4db8-c306-ad7b8e8daa1e"
   },
   "outputs": [
    {
     "data": {
      "text/plain": [
       "0         2\n",
       "1         3\n",
       "2         2\n",
       "3         1\n",
       "4         2\n",
       "         ..\n",
       "729317    5\n",
       "729318    2\n",
       "729319    4\n",
       "729320    6\n",
       "729321    1\n",
       "Name: Month, Length: 728191, dtype: int64"
      ]
     },
     "execution_count": 11,
     "metadata": {},
     "output_type": "execute_result"
    }
   ],
   "source": [
    "nyc_df['Month'] = nyc_df['pickup_datetime'].dt.month\n",
    "nyc_df['Month']"
   ]
  },
  {
   "cell_type": "code",
   "execution_count": 12,
   "metadata": {
    "colab": {
     "base_uri": "https://localhost:8080/"
    },
    "id": "YciIeoEsCSun",
    "outputId": "beb9e900-c992-4c19-fff0-e705385d170e"
   },
   "outputs": [
    {
     "data": {
      "text/plain": [
       "0         16\n",
       "1         23\n",
       "2         17\n",
       "3          9\n",
       "4          6\n",
       "          ..\n",
       "729317    13\n",
       "729318     0\n",
       "729319    18\n",
       "729320     9\n",
       "729321    17\n",
       "Name: Hour, Length: 728191, dtype: int64"
      ]
     },
     "execution_count": 12,
     "metadata": {},
     "output_type": "execute_result"
    }
   ],
   "source": [
    "nyc_df['Hour'] = nyc_df['pickup_datetime'].dt.hour\n",
    "nyc_df['Hour']"
   ]
  },
  {
   "cell_type": "code",
   "execution_count": 13,
   "metadata": {
    "colab": {
     "base_uri": "https://localhost:8080/"
    },
    "id": "ps-ukk1LD-G4",
    "outputId": "20cd88ab-d44b-4664-bd18-50fe0ca3415f"
   },
   "outputs": [
    {
     "data": {
      "text/plain": [
       "0         2016\n",
       "1         2016\n",
       "2         2016\n",
       "3         2016\n",
       "4         2016\n",
       "          ... \n",
       "729317    2016\n",
       "729318    2016\n",
       "729319    2016\n",
       "729320    2016\n",
       "729321    2016\n",
       "Name: Year, Length: 728191, dtype: int64"
      ]
     },
     "execution_count": 13,
     "metadata": {},
     "output_type": "execute_result"
    }
   ],
   "source": [
    "nyc_df['Year'] = nyc_df['pickup_datetime'].dt.year\n",
    "nyc_df['Year']"
   ]
  },
  {
   "cell_type": "markdown",
   "metadata": {
    "id": "ElDdr4fS4WM8"
   },
   "source": [
    "## EDA"
   ]
  },
  {
   "cell_type": "code",
   "execution_count": 14,
   "metadata": {
    "colab": {
     "base_uri": "https://localhost:8080/"
    },
    "id": "OdPUB7Fg5_oI",
    "outputId": "f81e0906-902b-44cd-b33e-716319ba2b9b"
   },
   "outputs": [
    {
     "data": {
      "text/plain": [
       "Index(['id', 'vendor_id', 'pickup_datetime', 'dropoff_datetime',\n",
       "       'passenger_count', 'pickup_longitude', 'pickup_latitude',\n",
       "       'dropoff_longitude', 'dropoff_latitude', 'store_and_fwd_flag',\n",
       "       'trip_duration', 'pickup_date', 'dropoff_date', 'Month', 'Hour',\n",
       "       'Year'],\n",
       "      dtype='object')"
      ]
     },
     "execution_count": 14,
     "metadata": {},
     "output_type": "execute_result"
    }
   ],
   "source": [
    "nyc_df.columns"
   ]
  },
  {
   "cell_type": "code",
   "execution_count": 15,
   "metadata": {
    "colab": {
     "base_uri": "https://localhost:8080/",
     "height": 639
    },
    "id": "vFHS82i74XY4",
    "outputId": "0939a6b9-c2d4-46ab-e69b-d481564a6203"
   },
   "outputs": [
    {
     "data": {
      "text/plain": [
       "<AxesSubplot:title={'center':'Distribution of trip duration'}, xlabel='trip_duration', ylabel='Count'>"
      ]
     },
     "execution_count": 15,
     "metadata": {},
     "output_type": "execute_result"
    },
    {
     "data": {
      "image/png": "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\n",
      "text/plain": [
       "<Figure size 720x720 with 1 Axes>"
      ]
     },
     "metadata": {
      "needs_background": "light"
     },
     "output_type": "display_data"
    }
   ],
   "source": [
    "plt.title(\"Distribution of trip duration\")\n",
    "sns.histplot(nyc_df['trip_duration'],bins=100)"
   ]
  },
  {
   "cell_type": "code",
   "execution_count": 16,
   "metadata": {
    "colab": {
     "base_uri": "https://localhost:8080/",
     "height": 624
    },
    "id": "J2tdz81i9ysO",
    "outputId": "faa123d0-98d7-4bb8-cb83-f63d9d0a7c31"
   },
   "outputs": [
    {
     "data": {
      "text/plain": [
       "<AxesSubplot:title={'center':'Distribution of trip duration'}, ylabel='Count'>"
      ]
     },
     "execution_count": 16,
     "metadata": {},
     "output_type": "execute_result"
    },
    {
     "data": {
      "image/png": "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\n",
      "text/plain": [
       "<Figure size 720x720 with 1 Axes>"
      ]
     },
     "metadata": {
      "needs_background": "light"
     },
     "output_type": "display_data"
    }
   ],
   "source": [
    "nyc_df['log_trip_duration']  = np.log(nyc_df['trip_duration'].values+1)\n",
    "plt.title('Distribution of trip duration')\n",
    "sns.histplot(nyc_df['log_trip_duration'].values,bins=100)"
   ]
  },
  {
   "cell_type": "code",
   "execution_count": 17,
   "metadata": {
    "colab": {
     "base_uri": "https://localhost:8080/",
     "height": 609
    },
    "id": "tsTxewfY-y7E",
    "outputId": "c07d9f62-0283-4ba3-e621-c0e89acdb854"
   },
   "outputs": [
    {
     "data": {
      "text/plain": [
       "[<matplotlib.lines.Line2D at 0x1e81c8c5250>]"
      ]
     },
     "execution_count": 17,
     "metadata": {},
     "output_type": "execute_result"
    },
    {
     "data": {
      "image/png": "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